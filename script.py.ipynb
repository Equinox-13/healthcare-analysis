{
 "cells": [
  {
   "cell_type": "code",
   "execution_count": 84,
   "metadata": {},
   "outputs": [
    {
     "name": "stdout",
     "output_type": "stream",
     "text": [
      "   registrationno              opdate  patname  amount  \\\n",
      "0               1 2014-01-04 07:14:00  Osbourn   600.0   \n",
      "1               2 2014-01-04 07:49:00  Malvina   400.0   \n",
      "2               3 2014-01-04 07:56:00   Maible   450.0   \n",
      "3               4 2014-01-04 07:58:00     Jada   400.0   \n",
      "4               5 2014-01-04 08:03:00   Farrel   450.0   \n",
      "\n",
      "                          department               status  discount  \n",
      "0                      CRITICAL CARE  Casualty -Emergency         0  \n",
      "1                  INTERNAL MEDICINE       OP Consultaion         0  \n",
      "2                      NEURO SURGERY       OP Consultaion         0  \n",
      "3                  INTERNAL MEDICINE            Follow up         0  \n",
      "4  GASTROENTEROLOGY & G.I. ENDOSCOPY            Follow up         0  \n"
     ]
    }
   ],
   "source": [
    "import pandas as pd\n",
    "\n",
    "class OutPatientCleaning:\n",
    "    \n",
    "    def reading_csv(self):\n",
    "        \"\"\"\n",
    "        this method  will read outpatient_details_dump.csv file\n",
    "        return: out_patient_df\n",
    "        \"\"\"\n",
    "        out_patient_df = pd.read_csv('data_files/outpatient_details_dump.csv', header=0, delimiter=',')\n",
    "        return out_patient_df\n",
    "    \n",
    "    def benchmark(self):\n",
    "        \"\"\"\n",
    "        This method will set benchmark values for no. of columns and list of headers\n",
    "        return: no_of_columns, list_of_headers\n",
    "        \"\"\"\n",
    "        no_of_columns = 7\n",
    "        list_of_headers = ['RegistrationNo','OPDATE', 'PatName', 'Amount', 'Department', 'Status', 'DISCOUNT']\n",
    "        return no_of_columns, list_of_headers\n",
    "    \n",
    "    def validation_fn(self, out_patient_df, no_of_columns, list_of_headers):\n",
    "        \"\"\"\n",
    "        This method will check 3 parameters to validate data file \n",
    "        i)   delimeter check \n",
    "        ii)  header content check\n",
    "        iii) no. of columns check\n",
    "        \n",
    "        return: delimiter_check, header_content_check, no_of_columns_check\n",
    "        \"\"\"\n",
    "        delimiter_check = len(out_patient_df.columns) > 1\n",
    "        header_content_check = list_of_headers == list(out_patient_df)\n",
    "        no_of_columns_check = len(out_patient_df.columns) == no_of_columns\n",
    "        return delimiter_check, header_content_check, no_of_columns_check\n",
    "    \n",
    "    def clean_data(self, out_patient_df):\n",
    "        \"\"\"\n",
    "        This method cleans inconsistent data and converts datatype of some columns\n",
    "        i) lower column name\n",
    "        ii)  replace spacing between column headers with underscore\n",
    "        iii) format date to standard format\n",
    "        iv)  format registration no. to integer datatype\n",
    "        v)   format amount in float datatype\n",
    "        \"\"\"\n",
    "        out_patient_df.columns = map(str.lower, out_patient_df.columns)\n",
    "        out_patient_df.columns = out_patient_df.columns.str.replace(\" \", \"_\")\n",
    "        out_patient_df['opdate'] = pd.to_datetime(out_patient_df['opdate'])\n",
    "        out_patient_df['registrationno'] = out_patient_df['registrationno'].astype(int)\n",
    "        out_patient_df['amount'] = out_patient_df['amount'].astype(float)\n",
    "        return out_patient_df\n",
    "\n",
    "\n",
    "if __name__ == '__main__':\n",
    "    opclean = OutPatientCleaning()\n",
    "    out_patient_df = opclean.reading_csv()\n",
    "    no_of_columns, list_of_headers = opclean.benchmark() \n",
    "    delimiter_check, header_content_check, no_of_columns_check = opclean.validation_fn(out_patient_df, no_of_columns, list_of_headers)\n",
    "    \n",
    "    if delimiter_check and header_content_check and no_of_columns_check:\n",
    "        out_patient_clean_df = opclean.clean_data(out_patient_df)\n",
    "        print(out_patient_clean_df.head())\n",
    "    "
   ]
  },
  {
   "cell_type": "code",
   "execution_count": null,
   "metadata": {},
   "outputs": [],
   "source": []
  }
 ],
 "metadata": {
  "kernelspec": {
   "display_name": "Python 3",
   "language": "python",
   "name": "python3"
  },
  "language_info": {
   "codemirror_mode": {
    "name": "ipython",
    "version": 3
   },
   "file_extension": ".py",
   "mimetype": "text/x-python",
   "name": "python",
   "nbconvert_exporter": "python",
   "pygments_lexer": "ipython3",
   "version": "3.7.6"
  }
 },
 "nbformat": 4,
 "nbformat_minor": 4
}
