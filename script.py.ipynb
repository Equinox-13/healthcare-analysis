{
 "cells": [
  {
   "cell_type": "code",
   "execution_count": 21,
   "metadata": {},
   "outputs": [
    {
     "name": "stdout",
     "output_type": "stream",
     "text": [
      "Data can be cleaned\n"
     ]
    }
   ],
   "source": [
    "import pandas as pd\n",
    "\n",
    "patient_df = pd.read_csv('data_files/outpatient_details_dump.csv', header=0, delimiter=',')\n",
    "\n",
    "no_of_columns = 7\n",
    "list_of_headers = ['RegistrationNo','OPDATE', 'PatName', 'Amount', 'Department', 'Status', 'DISCOUNT']\n",
    "\n",
    "if len(patient_df.columns) > 1:\n",
    "    if list_of_headers == list(patient_df):\n",
    "        if len(patient_df.columns) == no_of_columns:\n",
    "            print(\"Data can be cleaned\")"
   ]
  },
  {
   "cell_type": "code",
   "execution_count": null,
   "metadata": {},
   "outputs": [],
   "source": []
  }
 ],
 "metadata": {
  "kernelspec": {
   "display_name": "Python 3",
   "language": "python",
   "name": "python3"
  },
  "language_info": {
   "codemirror_mode": {
    "name": "ipython",
    "version": 3
   },
   "file_extension": ".py",
   "mimetype": "text/x-python",
   "name": "python",
   "nbconvert_exporter": "python",
   "pygments_lexer": "ipython3",
   "version": "3.7.6"
  }
 },
 "nbformat": 4,
 "nbformat_minor": 4
}
