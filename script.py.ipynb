{
 "cells": [
  {
   "cell_type": "code",
   "execution_count": 30,
   "metadata": {},
   "outputs": [],
   "source": [
    "import pandas as pd\n",
    "\n",
    "out_patient_df = pd.read_csv('data_files/outpatient_details_dump.csv', header=0, delimiter=',')\n",
    "\n",
    "no_of_columns = 7\n",
    "list_of_headers = ['RegistrationNo','OPDATE', 'PatName', 'Amount', 'Department', 'Status', 'DISCOUNT']"
   ]
  },
  {
   "cell_type": "code",
   "execution_count": 29,
   "metadata": {},
   "outputs": [
    {
     "name": "stdout",
     "output_type": "stream",
     "text": [
      "Data can be cleaned\n"
     ]
    }
   ],
   "source": [
    "if len(out_patient_df.columns) > 1:\n",
    "    if list_of_headers == list(out_patient_df):\n",
    "        if len(out_patient_df.columns) == no_of_columns:\n",
    "            print(\"Data can be cleaned\")"
   ]
  },
  {
   "cell_type": "code",
   "execution_count": 33,
   "metadata": {},
   "outputs": [
    {
     "name": "stdout",
     "output_type": "stream",
     "text": [
      "Data is proper\n"
     ]
    }
   ],
   "source": [
    "delimiter_check = len(out_patient_df.columns) > 1\n",
    "header_content_check = list_of_headers == list(out_patient_df)\n",
    "no_of_columns_check = len(out_patient_df.columns) == no_of_columns\n",
    "\n",
    "if delimiter_check is True and header_content_check is True and no_of_columns_check is True:\n",
    "    print(\"Data is proper\")\n",
    "else:\n",
    "    print(\"Data is not proper\")"
   ]
  },
  {
   "cell_type": "code",
   "execution_count": 36,
   "metadata": {},
   "outputs": [],
   "source": [
    "import pandas as pd\n",
    "\n",
    "class OutPatientCleaning:\n",
    "    \n",
    "    def reading_csv(self):\n",
    "        \"\"\"\n",
    "        this method  will read outpatient_details_dump.csv file\n",
    "        return: out_patient_df\n",
    "        \"\"\"\n",
    "        out_patient_df = pd.read_csv('data_files/outpatient_details_dump.csv', header=0, delimiter=',')\n",
    "        return out_patient_df\n",
    "    \n",
    "    def benchmark(self):\n",
    "        \"\"\"\n",
    "        This method will set benchmark values for no. of columns and list of headers\n",
    "        return: no_of_columns, list_of_headers\n",
    "        \"\"\"\n",
    "        no_of_columns = 7\n",
    "        list_of_headers = ['RegistrationNo','OPDATE', 'PatName', 'Amount', 'Department', 'Status', 'DISCOUNT']\n",
    "        return no_of_columns, list_of_headers\n",
    "    \n",
    "    def validation_fn(self, out_patient_df, no_of_columns, list_of_headers):\n",
    "        \"\"\"\n",
    "        This method will check 3 parameters to validate data file \n",
    "        i)   delimeter check \n",
    "        ii)  header content check\n",
    "        iii) no. of columns check\n",
    "        \n",
    "        return: delimiter_check, header_content_check, no_of_columns_check\n",
    "        \"\"\"\n",
    "        delimiter_check = len(out_patient_df.columns) > 1\n",
    "        header_content_check = list_of_headers == list(out_patient_df)\n",
    "        no_of_columns_check = len(out_patient_df.columns) == no_of_columns\n",
    "        return delimiter_check, header_content_check, no_of_columns_check\n",
    "\n",
    "\n",
    "if __name__ == '__main__':\n",
    "    opclean = OutPatientCleaning()\n",
    "    out_patient_df = opclean.reading_csv()\n",
    "    no_of_columns, list_of_headers = opclean.benchmark() \n",
    "    delimiter_check, header_content_check, no_of_columns_check = opclean.validation_fn(out_patient_df, no_of_columns, list_of_headers)\n",
    "    "
   ]
  },
  {
   "cell_type": "code",
   "execution_count": null,
   "metadata": {},
   "outputs": [],
   "source": []
  }
 ],
 "metadata": {
  "kernelspec": {
   "display_name": "Python 3",
   "language": "python",
   "name": "python3"
  },
  "language_info": {
   "codemirror_mode": {
    "name": "ipython",
    "version": 3
   },
   "file_extension": ".py",
   "mimetype": "text/x-python",
   "name": "python",
   "nbconvert_exporter": "python",
   "pygments_lexer": "ipython3",
   "version": "3.7.6"
  }
 },
 "nbformat": 4,
 "nbformat_minor": 4
}
