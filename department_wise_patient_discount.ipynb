{
 "cells": [
  {
   "cell_type": "code",
   "execution_count": 2,
   "metadata": {},
   "outputs": [
    {
     "name": "stdout",
     "output_type": "stream",
     "text": [
      "                                     added_amt  patientname  discountamount\n",
      "department                                                                 \n",
      "BONE AND JOINT HOSPITALS             624209.01            3               0\n",
      "CARDIOLOGY                         23343299.44          223         1990011\n",
      "CHEST MEDICINE                      5009301.15           42          178991\n",
      "CRITICAL CARE                      10634577.74           69          300101\n",
      "ENDOCRINOLOGY                        142439.00            1            2923\n",
      "ENT                                  371287.71            1               0\n",
      "GASTROENTEROLOGY & G.I. ENDOSCOPY   7678407.33           71           82418\n",
      "GENERAL SURGERY                     3978315.33           26           67520\n",
      "GYNAECOLOGY                         1194138.16           17          134451\n",
      "INTERNAL MEDICINE                   4840543.45           35          109087\n",
      "MINIMAL ACCESS SURGERY HOSPITAL      139420.92            2               0\n",
      "NEPHROLOGY                           710709.92            9            7058\n",
      "NEURO SURGERY                      23017071.27          162          688654\n",
      "NEUROLOGY                           1747818.83           19           76500\n",
      "ONCOLOGY                            9388326.86          135          366757\n",
      "ORTHOPAEDIC                         9254056.11           54          555925\n",
      "PEDIATIRICS                         2851228.50           71          105777\n",
      "PLASTIC SURGERY                     1384008.39           16           85053\n",
      "RADIOLOGY                            498638.86            5           13274\n",
      "UROLOGY                             2944538.97           39           49903\n"
     ]
    }
   ],
   "source": [
    "import pandas as pd\n",
    "\n",
    "patient_df = pd.read_csv('clean_files/clean_patient_discharge_details_dump.csv', header=0, delimiter=',')\n",
    "\n",
    "# added_amt column consists of sum of all the expenses incurred by a patient\n",
    "patient_df['added_amt']=patient_df.iloc[:,11:19].sum(axis=1)\n",
    "\n",
    "# department wise sum of 'added_amt', count of 'patientname' and sum of 'discountamount'\n",
    "group_by_department = patient_df.groupby(\"department\").agg({'added_amt':'sum','patientname':'count','discountamount':'sum'})\n",
    "print(group_by_department)\n"
   ]
  },
  {
   "cell_type": "code",
   "execution_count": 3,
   "metadata": {},
   "outputs": [
    {
     "name": "stdout",
     "output_type": "stream",
     "text": [
      "patientname   added_amt\n",
      "       Dolf  1528592.55\n",
      "       Aron  1259722.65\n",
      "       Judi  1146433.34\n",
      "  Timotheus  1143893.95\n",
      "       Opal  1121483.64\n",
      "     Yasmin  1001624.72\n",
      "      Darya   927497.90\n",
      "     Nanine   884241.32\n",
      "       Burt   821912.11\n",
      "     Vinnie   802197.69\n"
     ]
    }
   ],
   "source": [
    "# Top 10 patient with max added_amt \n",
    "patient_df_largest_ten = patient_df.nlargest(10, ['added_amt']) \n",
    "top_ten_added_amt_patient_df = patient_df_largest_ten[['patientname', 'added_amt']]\n",
    "print(top_ten_added_amt_patient_df.to_string(index= False))"
   ]
  },
  {
   "cell_type": "code",
   "execution_count": 9,
   "metadata": {},
   "outputs": [
    {
     "name": "stdout",
     "output_type": "stream",
     "text": [
      "                                    added_amt\n",
      "department                                   \n",
      "BONE AND JOINT HOSPITALS            361484.85\n",
      "CARDIOLOGY                          802197.69\n",
      "CHEST MEDICINE                      538582.52\n",
      "CRITICAL CARE                      1259722.65\n",
      "ENDOCRINOLOGY                       142439.00\n",
      "ENT                                 371287.71\n",
      "GASTROENTEROLOGY & G.I. ENDOSCOPY   884241.32\n",
      "GENERAL SURGERY                     791468.72\n",
      "GYNAECOLOGY                         149596.15\n",
      "INTERNAL MEDICINE                  1528592.55\n",
      "MINIMAL ACCESS SURGERY HOSPITAL     120068.00\n",
      "NEPHROLOGY                          300590.62\n",
      "NEURO SURGERY                      1143893.95\n",
      "NEUROLOGY                           450341.15\n",
      "ONCOLOGY                            596687.26\n",
      "ORTHOPAEDIC                         701390.27\n",
      "PEDIATIRICS                         289490.94\n",
      "PLASTIC SURGERY                     676471.19\n",
      "RADIOLOGY                           182559.55\n",
      "UROLOGY                             627046.94\n"
     ]
    }
   ],
   "source": [
    "# Top 10 departments with patient of max added_amt\n",
    "group_by_department = patient_df.groupby(\"department\").agg({'added_amt':'max'})\n",
    "print(group_by_department)"
   ]
  },
  {
   "cell_type": "code",
   "execution_count": 13,
   "metadata": {},
   "outputs": [
    {
     "name": "stdout",
     "output_type": "stream",
     "text": [
      " registrationno patientname       phone                         department   added_amt\n",
      "            932        Dolf  9427130747                  INTERNAL MEDICINE  1528592.55\n",
      "            685        Aron  8888999999                      CRITICAL CARE  1259722.65\n",
      "            542        Judi  8888999999                      CRITICAL CARE  1146433.34\n",
      "            791   Timotheus  9909062725                      NEURO SURGERY  1143893.95\n",
      "            129        Opal  8888999999                      NEURO SURGERY  1121483.64\n",
      "            122      Yasmin  9277653897                  INTERNAL MEDICINE  1001624.72\n",
      "            463       Darya  9924009499                      CRITICAL CARE   927497.90\n",
      "            798      Nanine  8888999999  GASTROENTEROLOGY & G.I. ENDOSCOPY   884241.32\n",
      "            781        Burt  9909927427                      NEURO SURGERY   821912.11\n",
      "            861      Vinnie  8888999999                         CARDIOLOGY   802197.69\n"
     ]
    }
   ],
   "source": [
    "# Top 10 Registration_No, Patient_Name ,Department_Name, Total_Expense(), Mobile_Number\n",
    "patient_df_largest_ten = patient_df.nlargest(10, [\"added_amt\"]) \n",
    "top_ten_added_amt_patient_df_phone = patient_df_largest_ten[[\"registrationno\", \"patientname\", \"phone\", \"department\", \"added_amt\"]]\n",
    "print(top_ten_added_amt_patient_df_phone.to_string(index= False))"
   ]
  },
  {
   "cell_type": "code",
   "execution_count": 17,
   "metadata": {},
   "outputs": [
    {
     "name": "stdout",
     "output_type": "stream",
     "text": [
      " registrationno patientname       phone                         department  added_amt\n",
      "            418  Antonietta  8888999999                         CARDIOLOGY        0.0\n",
      "            435       Adler  9904114846                      NEURO SURGERY        0.0\n",
      "            468       Chris  9898422357                        GYNAECOLOGY        0.0\n",
      "            609   Kassandra  9925658300                      CRITICAL CARE        0.0\n",
      "            618       Corey  9898989027                         CARDIOLOGY        0.0\n",
      "            708   Alejandro  9426950320  GASTROENTEROLOGY & G.I. ENDOSCOPY        0.0\n",
      "            787      Leonid  8735072672                        ORTHOPAEDIC        0.0\n",
      "            923      Temple  9913311070                      CRITICAL CARE        0.0\n",
      "            926      Maudie  9979931053                         CARDIOLOGY        0.0\n",
      "            964      Jacqui  9924506015                      NEURO SURGERY        0.0\n"
     ]
    }
   ],
   "source": [
    "# Bottom 10 Registration_No, Patient_Name ,Department_Name, Total_Expense(), Mobile_Number\n",
    "patient_df_smallest_ten = patient_df.nsmallest(10, [\"added_amt\"]) \n",
    "bottom_ten_added_amt_patient_df_phone = patient_df_smallest_ten[[\"registrationno\", \"patientname\", \"phone\", \"department\", \"added_amt\"]]\n",
    "print(bottom_ten_added_amt_patient_df_phone.to_string(index= False))"
   ]
  },
  {
   "cell_type": "code",
   "execution_count": null,
   "metadata": {},
   "outputs": [],
   "source": []
  }
 ],
 "metadata": {
  "kernelspec": {
   "display_name": "Python 3",
   "language": "python",
   "name": "python3"
  },
  "language_info": {
   "codemirror_mode": {
    "name": "ipython",
    "version": 3
   },
   "file_extension": ".py",
   "mimetype": "text/x-python",
   "name": "python",
   "nbconvert_exporter": "python",
   "pygments_lexer": "ipython3",
   "version": "3.7.6"
  }
 },
 "nbformat": 4,
 "nbformat_minor": 4
}
