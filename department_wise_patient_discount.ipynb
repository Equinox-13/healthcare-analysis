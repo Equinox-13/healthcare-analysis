{
 "cells": [
  {
   "cell_type": "code",
   "execution_count": 12,
   "metadata": {},
   "outputs": [
    {
     "name": "stdout",
     "output_type": "stream",
     "text": [
      "                                     added_amt  patientname  discountamount\n",
      "department                                                                 \n",
      "BONE AND JOINT HOSPITALS             624209.01            3               0\n",
      "CARDIOLOGY                         23343299.44          223         1990011\n",
      "CHEST MEDICINE                      5009301.15           42          178991\n",
      "CRITICAL CARE                      10634577.74           69          300101\n",
      "ENDOCRINOLOGY                        142439.00            1            2923\n",
      "ENT                                  371287.71            1               0\n",
      "GASTROENTEROLOGY & G.I. ENDOSCOPY   7678407.33           71           82418\n",
      "GENERAL SURGERY                     3978315.33           26           67520\n",
      "GYNAECOLOGY                         1194138.16           17          134451\n",
      "INTERNAL MEDICINE                   4840543.45           35          109087\n",
      "MINIMAL ACCESS SURGERY HOSPITAL      139420.92            2               0\n",
      "NEPHROLOGY                           710709.92            9            7058\n",
      "NEURO SURGERY                      23017071.27          162          688654\n",
      "NEUROLOGY                           1747818.83           19           76500\n",
      "ONCOLOGY                            9388326.86          135          366757\n",
      "ORTHOPAEDIC                         9254056.11           54          555925\n",
      "PEDIATIRICS                         2851228.50           71          105777\n",
      "PLASTIC SURGERY                     1384008.39           16           85053\n",
      "RADIOLOGY                            498638.86            5           13274\n",
      "UROLOGY                             2944538.97           39           49903\n"
     ]
    }
   ],
   "source": [
    "import pandas as pd\n",
    "\n",
    "patient_df = pd.read_csv('clean_files/clean_patient_discharge_details_dump.csv', header=0, delimiter=',')\n",
    "\n",
    "# added_amt column consists of sum of all the expenses incurred by a patient\n",
    "patient_df['added_amt']=patient_df.iloc[:,11:19].sum(axis=1)\n",
    "\n",
    "# department wise sum of 'added_amt', count of 'patientname' and sum of 'discountamount'\n",
    "group_by_department = patient_df.groupby(\"department\").agg({'added_amt':'sum','patientname':'count','discountamount':'sum'})\n",
    "print(group_by_department)\n"
   ]
  },
  {
   "cell_type": "code",
   "execution_count": 10,
   "metadata": {},
   "outputs": [
    {
     "name": "stdout",
     "output_type": "stream",
     "text": [
      "patientname   added_amt\n",
      "       Dolf  1528592.55\n",
      "       Aron  1259722.65\n",
      "       Judi  1146433.34\n",
      "  Timotheus  1143893.95\n",
      "       Opal  1121483.64\n",
      "     Yasmin  1001624.72\n",
      "      Darya   927497.90\n",
      "     Nanine   884241.32\n",
      "       Burt   821912.11\n",
      "     Vinnie   802197.69\n"
     ]
    }
   ],
   "source": [
    "patient_df_largest_ten = patient_df.nlargest(10, ['added_amt']) \n",
    "top_ten_added_amt_patient_df = patient_df_largest_ten[['patientname', 'added_amt']]\n",
    "print(top_ten_added_amt_patient_df.to_string(index= False))"
   ]
  },
  {
   "cell_type": "code",
   "execution_count": 32,
   "metadata": {},
   "outputs": [
    {
     "ename": "TypeError",
     "evalue": "first() missing 1 required positional argument: 'offset'",
     "output_type": "error",
     "traceback": [
      "\u001b[0;31m---------------------------------------------------------------------------\u001b[0m",
      "\u001b[0;31mTypeError\u001b[0m                                 Traceback (most recent call last)",
      "\u001b[0;32m<ipython-input-32-037b24ee14b5>\u001b[0m in \u001b[0;36m<module>\u001b[0;34m\u001b[0m\n\u001b[0;32m----> 1\u001b[0;31m \u001b[0mgroup_by_department\u001b[0m \u001b[0;34m=\u001b[0m \u001b[0mpatient_df\u001b[0m\u001b[0;34m.\u001b[0m\u001b[0msort_values\u001b[0m\u001b[0;34m(\u001b[0m\u001b[0;34m\"added_amt\"\u001b[0m\u001b[0;34m)\u001b[0m\u001b[0;34m.\u001b[0m\u001b[0mgroupby\u001b[0m\u001b[0;34m(\u001b[0m\u001b[0;34m[\u001b[0m\u001b[0;34m\"department\"\u001b[0m\u001b[0;34m,\u001b[0m\u001b[0;34m\"patientname\"\u001b[0m\u001b[0;34m]\u001b[0m\u001b[0;34m)\u001b[0m\u001b[0;34m.\u001b[0m\u001b[0magg\u001b[0m\u001b[0;34m(\u001b[0m\u001b[0;34m{\u001b[0m\u001b[0;34m'added_amt'\u001b[0m\u001b[0;34m:\u001b[0m\u001b[0;34m'max'\u001b[0m\u001b[0;34m}\u001b[0m\u001b[0;34m)\u001b[0m\u001b[0;34m.\u001b[0m\u001b[0mfirst\u001b[0m\u001b[0;34m(\u001b[0m\u001b[0;34m)\u001b[0m\u001b[0;34m\u001b[0m\u001b[0;34m\u001b[0m\u001b[0m\n\u001b[0m\u001b[1;32m      2\u001b[0m \u001b[0;31m# print(pd.merge(group_by_department,patient_df,on='patientname'))\u001b[0m\u001b[0;34m\u001b[0m\u001b[0;34m\u001b[0m\u001b[0;34m\u001b[0m\u001b[0m\n\u001b[1;32m      3\u001b[0m \u001b[0;31m# df.sort_values('B').groupby('A').first()\u001b[0m\u001b[0;34m\u001b[0m\u001b[0;34m\u001b[0m\u001b[0;34m\u001b[0m\u001b[0m\n\u001b[1;32m      4\u001b[0m \u001b[0mprint\u001b[0m\u001b[0;34m(\u001b[0m\u001b[0mgroup_by_department\u001b[0m\u001b[0;34m)\u001b[0m\u001b[0;34m\u001b[0m\u001b[0;34m\u001b[0m\u001b[0m\n",
      "\u001b[0;31mTypeError\u001b[0m: first() missing 1 required positional argument: 'offset'"
     ]
    }
   ],
   "source": [
    "group_by_department = patient_df.sort_values(\"added_amt\").groupby([\"department\",\"patientname\"]).agg({'added_amt':'max'}).first()\n",
    "# print(pd.merge(group_by_department,patient_df,on='patientname'))\n",
    "# df.sort_values('B').groupby('A').first()\n",
    "print(group_by_department)"
   ]
  },
  {
   "cell_type": "code",
   "execution_count": null,
   "metadata": {},
   "outputs": [],
   "source": []
  }
 ],
 "metadata": {
  "kernelspec": {
   "display_name": "Python 3",
   "language": "python",
   "name": "python3"
  },
  "language_info": {
   "codemirror_mode": {
    "name": "ipython",
    "version": 3
   },
   "file_extension": ".py",
   "mimetype": "text/x-python",
   "name": "python",
   "nbconvert_exporter": "python",
   "pygments_lexer": "ipython3",
   "version": "3.7.6"
  }
 },
 "nbformat": 4,
 "nbformat_minor": 4
}
