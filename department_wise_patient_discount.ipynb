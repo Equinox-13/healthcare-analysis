{
 "cells": [
  {
   "cell_type": "code",
   "execution_count": 21,
   "metadata": {},
   "outputs": [
    {
     "name": "stdout",
     "output_type": "stream",
     "text": [
      "department\n",
      "BONE AND JOINT HOSPITALS               624209.01\n",
      "CARDIOLOGY                           25333310.44\n",
      "CHEST MEDICINE                        5188292.15\n",
      "CRITICAL CARE                        10934678.74\n",
      "ENDOCRINOLOGY                          145362.00\n",
      "ENT                                    371287.71\n",
      "GASTROENTEROLOGY & G.I. ENDOSCOPY     7760825.33\n",
      "GENERAL SURGERY                       4045835.33\n",
      "GYNAECOLOGY                           1328589.16\n",
      "INTERNAL MEDICINE                     4949630.45\n",
      "MINIMAL ACCESS SURGERY HOSPITAL        139420.92\n",
      "NEPHROLOGY                             717767.92\n",
      "NEURO SURGERY                        23705725.27\n",
      "NEUROLOGY                             1824318.83\n",
      "ONCOLOGY                              9755083.86\n",
      "ORTHOPAEDIC                           9809981.11\n",
      "PEDIATIRICS                           2957005.50\n",
      "PLASTIC SURGERY                       1469061.39\n",
      "RADIOLOGY                              511912.86\n",
      "UROLOGY                               2994441.97\n",
      "Name: added_amt, dtype: float64\n",
      "department\n",
      "BONE AND JOINT HOSPITALS               3\n",
      "CARDIOLOGY                           223\n",
      "CHEST MEDICINE                        42\n",
      "CRITICAL CARE                         69\n",
      "ENDOCRINOLOGY                          1\n",
      "ENT                                    1\n",
      "GASTROENTEROLOGY & G.I. ENDOSCOPY     71\n",
      "GENERAL SURGERY                       26\n",
      "GYNAECOLOGY                           17\n",
      "INTERNAL MEDICINE                     35\n",
      "MINIMAL ACCESS SURGERY HOSPITAL        2\n",
      "NEPHROLOGY                             9\n",
      "NEURO SURGERY                        162\n",
      "NEUROLOGY                             19\n",
      "ONCOLOGY                             135\n",
      "ORTHOPAEDIC                           54\n",
      "PEDIATIRICS                           71\n",
      "PLASTIC SURGERY                       16\n",
      "RADIOLOGY                              5\n",
      "UROLOGY                               39\n",
      "Name: patientname, dtype: int64\n",
      "department\n",
      "BONE AND JOINT HOSPITALS                   0\n",
      "CARDIOLOGY                           1990011\n",
      "CHEST MEDICINE                        178991\n",
      "CRITICAL CARE                         300101\n",
      "ENDOCRINOLOGY                           2923\n",
      "ENT                                        0\n",
      "GASTROENTEROLOGY & G.I. ENDOSCOPY      82418\n",
      "GENERAL SURGERY                        67520\n",
      "GYNAECOLOGY                           134451\n",
      "INTERNAL MEDICINE                     109087\n",
      "MINIMAL ACCESS SURGERY HOSPITAL            0\n",
      "NEPHROLOGY                              7058\n",
      "NEURO SURGERY                         688654\n",
      "NEUROLOGY                              76500\n",
      "ONCOLOGY                              366757\n",
      "ORTHOPAEDIC                           555925\n",
      "PEDIATIRICS                           105777\n",
      "PLASTIC SURGERY                        85053\n",
      "RADIOLOGY                              13274\n",
      "UROLOGY                                49903\n",
      "Name: discountamount, dtype: int64\n"
     ]
    }
   ],
   "source": [
    "import pandas as pd\n",
    "\n",
    "patient_df = pd.read_csv('clean_files/clean_patient_discharge_details_dump.csv', header=0, delimiter=',')\n",
    "\n",
    "\n",
    "# patient_df[\"added_amt\"] = patient_df[\"discountamount\"] + patient_df[\"billamount\"] + patient_df[\"room_tariff\"] + patient_df[\"pharmacy\"] + patient_df[\"investigations\"] + patient_df[\"bedside_procedures\"] + patient_df[\"physiotherapy\"] + patient_df[\"surgeries\"] + patient_df[\"consumables\"] + patient_df[\"doctor_consultations\"] \n",
    "patient_df['added_amt']=patient_df.iloc[:,10:19].sum(axis=1)\n",
    "\n",
    "group_by_department = patient_df.groupby(\"department\")[\"added_amt\"].sum()\n",
    "group_by_no_of_patient = patient_df.groupby(\"department\")[\"patientname\"].count()\n",
    "group_by_discountamount = patient_df.groupby(\"department\")[\"discountamount\"].sum()\n",
    "print(group_by_department)\n",
    "print(group_by_no_of_patient)\n",
    "print(group_by_discountamount)"
   ]
  },
  {
   "cell_type": "code",
   "execution_count": null,
   "metadata": {},
   "outputs": [],
   "source": []
  }
 ],
 "metadata": {
  "kernelspec": {
   "display_name": "Python 3",
   "language": "python",
   "name": "python3"
  },
  "language_info": {
   "codemirror_mode": {
    "name": "ipython",
    "version": 3
   },
   "file_extension": ".py",
   "mimetype": "text/x-python",
   "name": "python",
   "nbconvert_exporter": "python",
   "pygments_lexer": "ipython3",
   "version": "3.7.6"
  }
 },
 "nbformat": 4,
 "nbformat_minor": 4
}
