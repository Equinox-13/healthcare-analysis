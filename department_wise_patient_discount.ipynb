{
 "cells": [
  {
   "cell_type": "code",
   "execution_count": 4,
   "metadata": {},
   "outputs": [
    {
     "name": "stdout",
     "output_type": "stream",
     "text": [
      "                                     added_amt  patientname  discountamount\n",
      "department                                                                 \n",
      "BONE AND JOINT HOSPITALS             624209.01            3               0\n",
      "CARDIOLOGY                         25333310.44          223         1990011\n",
      "CHEST MEDICINE                      5188292.15           42          178991\n",
      "CRITICAL CARE                      10934678.74           69          300101\n",
      "ENDOCRINOLOGY                        145362.00            1            2923\n",
      "ENT                                  371287.71            1               0\n",
      "GASTROENTEROLOGY & G.I. ENDOSCOPY   7760825.33           71           82418\n",
      "GENERAL SURGERY                     4045835.33           26           67520\n",
      "GYNAECOLOGY                         1328589.16           17          134451\n",
      "INTERNAL MEDICINE                   4949630.45           35          109087\n",
      "MINIMAL ACCESS SURGERY HOSPITAL      139420.92            2               0\n",
      "NEPHROLOGY                           717767.92            9            7058\n",
      "NEURO SURGERY                      23705725.27          162          688654\n",
      "NEUROLOGY                           1824318.83           19           76500\n",
      "ONCOLOGY                            9755083.86          135          366757\n",
      "ORTHOPAEDIC                         9809981.11           54          555925\n",
      "PEDIATIRICS                         2957005.50           71          105777\n",
      "PLASTIC SURGERY                     1469061.39           16           85053\n",
      "RADIOLOGY                            511912.86            5           13274\n",
      "UROLOGY                             2994441.97           39           49903\n"
     ]
    }
   ],
   "source": [
    "import pandas as pd\n",
    "\n",
    "patient_df = pd.read_csv('clean_files/clean_patient_discharge_details_dump.csv', header=0, delimiter=',')\n",
    "\n",
    "\n",
    "# patient_df[\"added_amt\"] = patient_df[\"discountamount\"] + patient_df[\"billamount\"] + patient_df[\"room_tariff\"] + patient_df[\"pharmacy\"] + patient_df[\"investigations\"] + patient_df[\"bedside_procedures\"] + patient_df[\"physiotherapy\"] + patient_df[\"surgeries\"] + patient_df[\"consumables\"] + patient_df[\"doctor_consultations\"] \n",
    "patient_df['added_amt']=patient_df.iloc[:,10:19].sum(axis=1)\n",
    "\n",
    "group_by_department = patient_df.groupby(\"department\").agg({'added_amt':'sum','patientname':'count','discountamount':'sum'})\n",
    "print(group_by_department)"
   ]
  },
  {
   "cell_type": "code",
   "execution_count": null,
   "metadata": {},
   "outputs": [],
   "source": []
  }
 ],
 "metadata": {
  "kernelspec": {
   "display_name": "Python 3",
   "language": "python",
   "name": "python3"
  },
  "language_info": {
   "codemirror_mode": {
    "name": "ipython",
    "version": 3
   },
   "file_extension": ".py",
   "mimetype": "text/x-python",
   "name": "python",
   "nbconvert_exporter": "python",
   "pygments_lexer": "ipython3",
   "version": "3.7.6"
  }
 },
 "nbformat": 4,
 "nbformat_minor": 4
}
