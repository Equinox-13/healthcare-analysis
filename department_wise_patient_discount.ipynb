{
 "cells": [
  {
   "cell_type": "code",
   "execution_count": 35,
   "metadata": {},
   "outputs": [
    {
     "name": "stdout",
     "output_type": "stream",
     "text": [
      "                                    registrationno        phone  \\\n",
      "department               added_amt                                \n",
      "BONE AND JOINT HOSPITALS 57625.87              184   9825075922   \n",
      "                         205098.29             554   9898422441   \n",
      "                         361484.85             365   9824200003   \n",
      "CARDIOLOGY               0.00                 1962  28767920079   \n",
      "                         7735.76               540   9879278710   \n",
      "\n",
      "                                    discountamount  billamount  room_tariff  \\\n",
      "department               added_amt                                            \n",
      "BONE AND JOINT HOSPITALS 57625.87                0       29314         3300   \n",
      "                         205098.29               0      105346         8800   \n",
      "                         361484.85               0      187998        39800   \n",
      "CARDIOLOGY               0.00                    0           0            0   \n",
      "                         7735.76                 0        3943            0   \n",
      "\n",
      "                                    pharmacy  investigations  \\\n",
      "department               added_amt                             \n",
      "BONE AND JOINT HOSPITALS 57625.87    3619.17            1645   \n",
      "                         205098.29   8189.51            1540   \n",
      "                         361484.85  10168.77            8160   \n",
      "CARDIOLOGY               0.00           0.00               0   \n",
      "                         7735.76      742.96               0   \n",
      "\n",
      "                                    bedside_procedures  physiotherapy  \\\n",
      "department               added_amt                                      \n",
      "BONE AND JOINT HOSPITALS 57625.87                632.0            0.0   \n",
      "                         205098.29              1160.0            0.0   \n",
      "                         361484.85              5310.0         1350.0   \n",
      "CARDIOLOGY               0.00                      0.0            0.0   \n",
      "                         7735.76                 180.0            0.0   \n",
      "\n",
      "                                    surgeries  consumables  \\\n",
      "department               added_amt                           \n",
      "BONE AND JOINT HOSPITALS 57625.87     16200.0      2915.70   \n",
      "                         205098.29    74800.0      5262.78   \n",
      "                         361484.85    97800.0     10898.08   \n",
      "CARDIOLOGY               0.00             0.0         0.00   \n",
      "                         7735.76          0.0      2869.80   \n",
      "\n",
      "                                    doctor_consultations  \n",
      "department               added_amt                        \n",
      "BONE AND JOINT HOSPITALS 57625.87                 1650.0  \n",
      "                         205098.29                2750.0  \n",
      "                         361484.85               11450.0  \n",
      "CARDIOLOGY               0.00                        0.0  \n",
      "                         7735.76                     0.0  \n"
     ]
    }
   ],
   "source": [
    "import pandas as pd\n",
    "\n",
    "patient_df = pd.read_csv('clean_files/clean_patient_discharge_details_dump.csv', header=0, delimiter=',')\n",
    "\n",
    "\n",
    "# patient_df[\"added_amt\"] = patient_df[\"discountamount\"] + patient_df[\"billamount\"] + patient_df[\"room_tariff\"] + patient_df[\"pharmacy\"] + patient_df[\"investigations\"] + patient_df[\"bedside_procedures\"] + patient_df[\"physiotherapy\"] + patient_df[\"surgeries\"] + patient_df[\"consumables\"] + patient_df[\"doctor_consultations\"] \n",
    "patient_df['added_amt']=patient_df.iloc[:,10:19].sum(axis=1)\n",
    "new = patient_df.groupby(['department', 'added_amt']).sum()\n",
    "print(new.head())"
   ]
  },
  {
   "cell_type": "code",
   "execution_count": null,
   "metadata": {},
   "outputs": [],
   "source": []
  }
 ],
 "metadata": {
  "kernelspec": {
   "display_name": "Python 3",
   "language": "python",
   "name": "python3"
  },
  "language_info": {
   "codemirror_mode": {
    "name": "ipython",
    "version": 3
   },
   "file_extension": ".py",
   "mimetype": "text/x-python",
   "name": "python",
   "nbconvert_exporter": "python",
   "pygments_lexer": "ipython3",
   "version": "3.7.6"
  }
 },
 "nbformat": 4,
 "nbformat_minor": 4
}
