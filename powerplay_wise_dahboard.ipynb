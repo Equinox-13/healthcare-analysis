{
 "cells": [
  {
   "cell_type": "code",
   "execution_count": 73,
   "metadata": {},
   "outputs": [
    {
     "name": "stdout",
     "output_type": "stream",
     "text": [
      "Script executes for only first 7 days of the month\n"
     ]
    }
   ],
   "source": [
    "import pandas as pd\n",
    "import datetime, time\n",
    "\n",
    "current_day = datetime.datetime.now().strftime(\"%d\")\n",
    "if (current_day in [\"01\",\"02\",\"03\",\"04\",\"05\",\"06\",\"07\"]):\n",
    "    patient_discharge_df = pd.read_csv('clean_files/clean_patient_discharge_details_dump.csv', header=0, delimiter=',')\n",
    "    patient_details_df = pd.read_csv('clean_files/clean_patient_details_dump.csv', header=0, delimiter=',')\n",
    "    \n",
    "    \n",
    "    # Registration_No ,  Age , Gender , City_Name , District_Name , Statename,  latest by admit date\n",
    "    result_df = pd.merge(patient_discharge_df, patient_details_df[[\"registrationno\",\"age\",\"gender\"]], on='registrationno')\n",
    "    merged_df = result_df[[\"registrationno\",\"age\",\"gender\",\"cityname\",\"districtname\",\"statename\",\"admitdatetime\"]]\n",
    "    merged_df = merged_df.sort_values(by=['admitdatetime'], ascending=False).head(50)\n",
    "\n",
    "    # Export to csv\n",
    "    merged_df.to_csv('dashboards/powerplay/latest_50_admitdate_wise.csv',encoding='utf-8', index=False)\n",
    "else:\n",
    "    print(\"Script executes for only first 7 days of the month\")\n",
    "    "
   ]
  },
  {
   "cell_type": "code",
   "execution_count": 74,
   "metadata": {},
   "outputs": [],
   "source": [
    "\n",
    "current_day = datetime.datetime.now().strftime(\"%d\")\n",
    "if (current_day in [\"01\",\"02\",\"03\",\"04\",\"05\",\"06\",\"07\"]):\n",
    "    \n",
    "    # registration, opdate(order by desc), patientname, age, city, district -(50 records)\n",
    "    outpatient_details_df = pd.read_csv('clean_files/clean_outpatient_details_dump.csv', header=0, delimiter=',')\n",
    "    patient_discharge_details_df = pd.read_csv('clean_files/clean_patient_discharge_details_dump.csv', header=0, delimiter=',')\n",
    "    \n",
    "    result_df = pd.merge(outpatient_details_df, patient_discharge_details_df[[\"registrationno\",\"cityname\",\"districtname\",\"statename\"]], on='registrationno')\n",
    "    result_df = result_df[[\"registrationno\",\"opdate\",\"patname\",\"cityname\",\"districtname\",\"statename\"]]\n",
    "    result_df['opdate'] =  pd.to_datetime(result_df['opdate'])\n",
    "    result_df = result_df.sort_values(by=['opdate'], ascending=False).head(50)\n",
    "    \n",
    "    # Export to csv\n",
    "    result_df.to_csv('dashboards/powerplay/latest_50_opdate_wise.csv',encoding='utf-8', index=False)\n",
    "else:\n",
    "    print(\"Script executes for only first 7 days of the month\")\n",
    "\n",
    "    "
   ]
  },
  {
   "cell_type": "code",
   "execution_count": 57,
   "metadata": {},
   "outputs": [],
   "source": [
    "\n",
    "current_day = datetime.datetime.now().strftime(\"%d\")\n",
    "if (current_day in [\"01\",\"02\",\"03\",\"04\",\"05\",\"06\",\"07\"]):\n",
    "    outpatient_details_df = pd.read_csv('clean_files/clean_outpatient_details_dump.csv', header=0, delimiter=',')\n",
    "    patient_discharge_details_df = pd.read_csv('clean_files/clean_patient_discharge_details_dump.csv', header=0, delimiter=',')\n",
    "    \n",
    "    # registration, opdate, patientname,city, district, state, amount > 500\n",
    "    result_df = pd.merge(outpatient_details_df, patient_discharge_details_df[[\"registrationno\",\"cityname\",\"districtname\",\"statename\"]], on='registrationno')\n",
    "    result_df = result_df[[\"registrationno\",\"opdate\",\"patname\",\"amount\",\"cityname\",\"districtname\",\"statename\"]]\n",
    "    result_df = result_df[result_df.amount > 500]\n",
    "    \n",
    "    # Export to csv\n",
    "    result_df.to_csv('dashboards/powerplay/amount_greater_than_500_wise.csv',encoding='utf-8', index=False)\n",
    "    \n",
    "    "
   ]
  },
  {
   "cell_type": "code",
   "execution_count": 21,
   "metadata": {},
   "outputs": [],
   "source": [
    "current_day = datetime.datetime.now().strftime(\"%d\")\n",
    "if (current_day in [\"01\",\"02\",\"03\",\"04\",\"05\",\"06\",\"07\"]):\n",
    "    outpatient_details_df = pd.read_csv('clean_files/clean_outpatient_details_dump.csv', header=0, delimiter=',')\n",
    " \n",
    "    #department group by, sum of amount\n",
    "    group_by_department = outpatient_details_df.groupby(\"department\").agg({'amount':'sum'})\n",
    "    \n",
    "    # Export to csv\n",
    "    group_by_department.to_csv('dashboards/powerplay/sum_of_amount_department_wise.csv',encoding='utf-8', index=True)\n"
   ]
  },
  {
   "cell_type": "code",
   "execution_count": 27,
   "metadata": {},
   "outputs": [],
   "source": [
    "\n",
    "current_day = datetime.datetime.now().strftime(\"%d\")\n",
    "if (current_day in [\"01\",\"02\",\"03\",\"04\",\"05\",\"06\",\"07\"]):\n",
    "    outpatient_details_df = pd.read_csv('clean_files/clean_outpatient_details_dump.csv', header=0, delimiter=',')\n",
    " \n",
    "    # status group by, sum of amount\n",
    "    group_by_department = outpatient_details_df.groupby(\"status\").agg({'amount':'sum'})\n",
    "    \n",
    "    # Export to csv\n",
    "    group_by_department.to_csv('dashboards/powerplay/sum_of_amount_status_wise.csv',encoding='utf-8', index=True)\n",
    "\n",
    "    "
   ]
  },
  {
   "cell_type": "code",
   "execution_count": null,
   "metadata": {},
   "outputs": [],
   "source": []
  }
 ],
 "metadata": {
  "kernelspec": {
   "display_name": "Python 3",
   "language": "python",
   "name": "python3"
  },
  "language_info": {
   "codemirror_mode": {
    "name": "ipython",
    "version": 3
   },
   "file_extension": ".py",
   "mimetype": "text/x-python",
   "name": "python",
   "nbconvert_exporter": "python",
   "pygments_lexer": "ipython3",
   "version": "3.7.6"
  }
 },
 "nbformat": 4,
 "nbformat_minor": 4
}
