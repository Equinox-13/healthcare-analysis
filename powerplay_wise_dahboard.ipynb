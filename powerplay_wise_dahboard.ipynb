{
 "cells": [
  {
   "cell_type": "code",
   "execution_count": 23,
   "metadata": {},
   "outputs": [],
   "source": [
    "import pandas as pd\n",
    "import datetime, time\n",
    "\n",
    "current_day = datetime.datetime.now().strftime(\"%d\")\n",
    "if (current_day in [\"01\",\"02\",\"03\",\"04\",\"05\",\"06\",\"07\",\"11\"]):\n",
    "    patient_discharge_df = pd.read_csv('clean_files/clean_patient_discharge_details_dump.csv', header=0, delimiter=',')\n",
    "    patient_details_df = pd.read_csv('clean_files/clean_patient_details_dump.csv', header=0, delimiter=',')\n",
    "    \n",
    "    # Registration_No ,  Age , Gender , City_Name , District_Name , Statename,  latest by admit date\n",
    "    result_df = pd.merge(patient_discharge_df, patient_details_df[[\"registrationno\",\"age\",\"gender\"]], on='registrationno')\n",
    "    df = result_df[[\"registrationno\",\"age\",\"gender\",\"cityname\",\"districtname\",\"statename\",\"admitdatetime\"]]\n",
    "else:\n",
    "    print(\"Script wont execute\")\n",
    "    "
   ]
  },
  {
   "cell_type": "code",
   "execution_count": 27,
   "metadata": {},
   "outputs": [
    {
     "name": "stdout",
     "output_type": "stream",
     "text": [
      "yes\n"
     ]
    }
   ],
   "source": [
    "\n",
    "current_day = datetime.datetime.now().strftime(\"%d\")\n",
    "if (current_day in [\"01\",\"02\",\"03\",\"04\",\"05\",\"06\",\"07\",\"11\"]):\n",
    "    # age, gender, admitdate should be current month, discharge date (last 3 months) [1st 7 days of month]\n",
    "    print(\"yes\") \n",
    "else:\n",
    "    print(\"Script wont execute\")"
   ]
  },
  {
   "cell_type": "code",
   "execution_count": null,
   "metadata": {},
   "outputs": [],
   "source": []
  }
 ],
 "metadata": {
  "kernelspec": {
   "display_name": "Python 3",
   "language": "python",
   "name": "python3"
  },
  "language_info": {
   "codemirror_mode": {
    "name": "ipython",
    "version": 3
   },
   "file_extension": ".py",
   "mimetype": "text/x-python",
   "name": "python",
   "nbconvert_exporter": "python",
   "pygments_lexer": "ipython3",
   "version": "3.7.6"
  }
 },
 "nbformat": 4,
 "nbformat_minor": 4
}
