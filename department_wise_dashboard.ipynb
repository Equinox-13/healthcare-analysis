{
 "cells": [
  {
   "cell_type": "code",
   "execution_count": 19,
   "metadata": {},
   "outputs": [],
   "source": [
    "import pandas as pd\n",
    "\n",
    "patient_df = pd.read_csv('clean_files/clean_patient_discharge_details_dump.csv', header=0, delimiter=',')\n",
    "\n",
    "# added_amt column consists of sum of all the expenses incurred by a patient\n",
    "patient_df['added_amt']=patient_df.iloc[:,11:20].sum(axis=1)\n",
    "\n",
    "# Group by department wise with sum of 'added_amt', count of 'patientname' and sum of 'discountamount'\n",
    "group_by_department_df = patient_df.groupby(\"department\").agg( added_amt = pd.NamedAgg(column='added_amt', aggfunc='sum'),\n",
    "                                                               patient_count = pd.NamedAgg(column='patientname', aggfunc='count'),\n",
    "                                                               discountamount = pd.NamedAgg(column='discountamount', aggfunc='sum'),)\n",
    "# Export to csv\n",
    "group_by_department_df.reset_index().to_csv('dashboards/department/department_wise.csv',encoding='utf-8', index=False)\n"
   ]
  },
  {
   "cell_type": "code",
   "execution_count": 5,
   "metadata": {},
   "outputs": [],
   "source": [
    "import pandas as pd\n",
    "\n",
    "class DepartmentDashboard:\n",
    "    \n",
    "    def read_csv(self, path):\n",
    "        \"\"\"\n",
    "        This method  will read a csv file and returns a dataframe\n",
    "        args : path\n",
    "        return : df\n",
    "        \"\"\"\n",
    "        df = pd.read_csv(path, header=0, delimiter=',')\n",
    "        return df\n",
    "   \n",
    "    def add_total_expense_column(self, patient_discharge_df):\n",
    "        \"\"\"\n",
    "        This method will append 'added_amt' column that consists of sum of all the expenses incurred by a patient\n",
    "        to the patient_discharge_df\n",
    "        return: patient_discharge_df\n",
    "        \"\"\"\n",
    "        patient_discharge_df['added_amt']=patient_discharge_df.iloc[:,11:20].sum(axis=1)\n",
    "        return patient_discharge_df\n",
    "    \n",
    "    def group_by_department_wise_script(self, patient_discharge_df):\n",
    "        \"\"\"\n",
    "        Group by department wise with sum of 'added_amt', count of 'patientname' and sum of 'discountamount'\n",
    "        return: group_by_department_df\n",
    "        \"\"\"\n",
    "        group_by_department_df = patient_discharge_df.groupby(\"department\").agg( \n",
    "            added_amt = pd.NamedAgg(column='added_amt', aggfunc='sum'),\n",
    "            patient_count = pd.NamedAgg(column='patientname', aggfunc='count'),\n",
    "            discountamount = pd.NamedAgg(column='discountamount', aggfunc='sum'),)\n",
    "        \n",
    "        return group_by_department_df\n",
    "    \n",
    "    def to_csv(self, group_by_department_df, path):\n",
    "        \"\"\"\n",
    "        this method  will write department_wise.csv file in dashboard_files/department directory\n",
    "        return: True\n",
    "        \"\"\"\n",
    "        group_by_department_df.to_csv(path, encoding='utf-8', index=False)\n",
    "        return True\n",
    "\n",
    "\n",
    "if __name__ == '__main__':\n",
    "    department_wise_obj = DepartmentDashboard()\n",
    "    patient_discharge_df = department_wise_obj.read_csv('clean_files/clean_patient_discharge_details_dump.csv')\n",
    "    patient_discharge_df = department_wise_obj.add_total_expense_column(patient_discharge_df)\n",
    "    group_by_department_df = department_wise_obj.group_by_department_wise_script(patient_discharge_df)\n",
    "    department_wise_obj.to_csv(group_by_department_df, 'dashboard_files/department/department_wise.csv')\n"
   ]
  },
  {
   "cell_type": "code",
   "execution_count": null,
   "metadata": {},
   "outputs": [],
   "source": []
  }
 ],
 "metadata": {
  "kernelspec": {
   "display_name": "Python 3",
   "language": "python",
   "name": "python3"
  },
  "language_info": {
   "codemirror_mode": {
    "name": "ipython",
    "version": 3
   },
   "file_extension": ".py",
   "mimetype": "text/x-python",
   "name": "python",
   "nbconvert_exporter": "python",
   "pygments_lexer": "ipython3",
   "version": "3.7.6"
  }
 },
 "nbformat": 4,
 "nbformat_minor": 4
}
