{
 "cells": [
  {
   "cell_type": "code",
   "execution_count": 9,
   "metadata": {},
   "outputs": [],
   "source": [
    "import pandas as pd\n",
    "\n",
    "patient_df = pd.read_csv('clean_files/clean_patient_discharge_details_dump.csv', header=0, delimiter=',')\n",
    "\n",
    "# added_amt column consists of sum of all the expenses incurred by a patient\n",
    "patient_df['added_amt']=patient_df.iloc[:,11:19].sum(axis=1)\n",
    "\n",
    "# Group by department wise with sum of 'added_amt', count of 'patientname' and sum of 'discountamount'\n",
    "group_by_department_df = patient_df.groupby(\"department\").agg({'added_amt':'sum','patientname':'count','discountamount':'sum'})\n",
    "\n",
    "# Export to csv\n",
    "group_by_department_df.reset_index().to_csv('dashboards/department/department_wise.csv',encoding='utf-8', index=False)\n"
   ]
  },
  {
   "cell_type": "code",
   "execution_count": null,
   "metadata": {},
   "outputs": [],
   "source": []
  }
 ],
 "metadata": {
  "kernelspec": {
   "display_name": "Python 3",
   "language": "python",
   "name": "python3"
  },
  "language_info": {
   "codemirror_mode": {
    "name": "ipython",
    "version": 3
   },
   "file_extension": ".py",
   "mimetype": "text/x-python",
   "name": "python",
   "nbconvert_exporter": "python",
   "pygments_lexer": "ipython3",
   "version": "3.7.6"
  }
 },
 "nbformat": 4,
 "nbformat_minor": 4
}
