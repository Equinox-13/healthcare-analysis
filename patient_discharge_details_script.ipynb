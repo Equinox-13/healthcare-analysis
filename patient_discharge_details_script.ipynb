{
 "cells": [
  {
   "cell_type": "code",
   "execution_count": 3,
   "metadata": {},
   "outputs": [
    {
     "name": "stdout",
     "output_type": "stream",
     "text": [
      "20 ['REGISTRATIONNO', 'PATIENTNAME', 'CITYNAME', 'DISTRICTNAME', 'STATENAME', 'PHONE', 'ADMITDATETIME', 'DISCHARGEDATETIME', 'COMPANY NAME', 'DEPARTMENT', 'DISCOUNTAMOUNT', 'BILLAMOUNT', 'ROOM TARIFF', 'PHARMACY', 'Investigations', 'Bedside Procedures', 'Physiotherapy', 'Surgeries', 'CONSUMABLES', 'Doctor Consultations']\n"
     ]
    }
   ],
   "source": [
    "import pandas as pd\n",
    "\n",
    "class PatientDischargeCleaning:\n",
    "    \n",
    "    def read_csv(self):\n",
    "        \"\"\"\n",
    "        this method  will read patient_discharge_details_dump.csv file\n",
    "        return: patient_discharge_df\n",
    "        \"\"\"\n",
    "        patient_discharge_df = pd.read_csv('data_files/patient_discharge_details_dump.csv', header=0, delimiter=',')\n",
    "        return patient_discharge_df\n",
    "    \n",
    "    def benchmark(self):\n",
    "        \"\"\"\n",
    "        This method will set benchmark values for no. of columns and list of headers\n",
    "        return: no_of_columns, list_of_headers\n",
    "        \"\"\"\n",
    "        no_of_columns = 20\n",
    "        list_of_headers = ['REGISTRATIONNO', 'PATIENTNAME', 'CITYNAME', 'DISTRICTNAME',\n",
    "                           'STATENAME', 'PHONE', 'ADMITDATETIME', 'DISCHARGEDATETIME',\n",
    "                           'COMPANY NAME', 'DEPARTMENT', 'DISCOUNTAMOUNT', 'BILLAMOUNT',\n",
    "                           'ROOM TARIFF', 'PHARMACY', 'Investigations', 'Bedside Procedures',\n",
    "                           'Physiotherapy', 'Surgeries', 'CONSUMABLES', 'Doctor Consultations']\n",
    "        return no_of_columns, list_of_headers\n",
    "    \n",
    "if __name__ == '__main__':\n",
    "    pdclean = PatientDischargeCleaning()\n",
    "    patient_discharge_df = pdclean.read_csv()\n",
    "    no_of_columns, list_of_headers = pdclean.benchmark()\n",
    "    print(no_of_columns, list_of_headers)\n"
   ]
  },
  {
   "cell_type": "code",
   "execution_count": null,
   "metadata": {},
   "outputs": [],
   "source": []
  }
 ],
 "metadata": {
  "kernelspec": {
   "display_name": "Python 3",
   "language": "python",
   "name": "python3"
  },
  "language_info": {
   "codemirror_mode": {
    "name": "ipython",
    "version": 3
   },
   "file_extension": ".py",
   "mimetype": "text/x-python",
   "name": "python",
   "nbconvert_exporter": "python",
   "pygments_lexer": "ipython3",
   "version": "3.7.6"
  }
 },
 "nbformat": 4,
 "nbformat_minor": 4
}
