{
 "cells": [
  {
   "cell_type": "code",
   "execution_count": 1,
   "metadata": {},
   "outputs": [
    {
     "name": "stdout",
     "output_type": "stream",
     "text": [
      "True True True\n"
     ]
    }
   ],
   "source": [
    "import pandas as pd\n",
    "\n",
    "class PatientDischargeCleaning:\n",
    "    \n",
    "    def read_csv(self):\n",
    "        \"\"\"\n",
    "        this method  will read patient_discharge_details_dump.csv file\n",
    "        return: patient_discharge_df\n",
    "        \"\"\"\n",
    "        patient_discharge_df = pd.read_csv('data_files/patient_discharge_details_dump.csv', header=0, delimiter=',')\n",
    "        return patient_discharge_df\n",
    "    \n",
    "    def benchmark(self):\n",
    "        \"\"\"\n",
    "        This method will set benchmark values for no. of columns and list of headers\n",
    "        return: no_of_columns, list_of_headers\n",
    "        \"\"\"\n",
    "        no_of_columns = 20\n",
    "        list_of_headers = ['REGISTRATIONNO', 'PATIENTNAME', 'CITYNAME', 'DISTRICTNAME',\n",
    "                           'STATENAME', 'PHONE', 'ADMITDATETIME', 'DISCHARGEDATETIME',\n",
    "                           'COMPANY NAME', 'DEPARTMENT', 'DISCOUNTAMOUNT', 'BILLAMOUNT',\n",
    "                           'ROOM TARIFF', 'PHARMACY', 'Investigations', 'Bedside Procedures',\n",
    "                           'Physiotherapy', 'Surgeries', 'CONSUMABLES', 'Doctor Consultations']\n",
    "        return no_of_columns, list_of_headers\n",
    "    \n",
    "    def validation_fn(self, patient_discharge_df, no_of_columns, list_of_header):\n",
    "        \"\"\"\n",
    "        This method will check 3 parameters to validate data file \n",
    "        i)   delimeter check \n",
    "        ii)  header content check\n",
    "        iii) no. of columns check\n",
    "        \n",
    "        return: delimiter_check, header_content_check, no_of_columns_check\n",
    "        \"\"\"\n",
    "        delimiter_check = len(patient_discharge_df.columns) > 1\n",
    "        header_content_check = list_of_headers == list(patient_discharge_df)\n",
    "        no_of_columns_check = len(patient_discharge_df.columns) == no_of_columns\n",
    "        return delimiter_check, header_content_check, no_of_columns_check\n",
    "    \n",
    "if __name__ == '__main__':\n",
    "    pdclean = PatientDischargeCleaning()\n",
    "    patient_discharge_df = pdclean.read_csv()\n",
    "    no_of_columns, list_of_headers = pdclean.benchmark()\n",
    "    delimiter_check, header_content_check, no_of_columns_check = pdclean.validation_fn(patient_discharge_df, no_of_columns, list_of_headers)\n",
    "    print(delimiter_check, header_content_check, no_of_columns_check)\n"
   ]
  },
  {
   "cell_type": "code",
   "execution_count": null,
   "metadata": {},
   "outputs": [],
   "source": []
  }
 ],
 "metadata": {
  "kernelspec": {
   "display_name": "Python 3",
   "language": "python",
   "name": "python3"
  },
  "language_info": {
   "codemirror_mode": {
    "name": "ipython",
    "version": 3
   },
   "file_extension": ".py",
   "mimetype": "text/x-python",
   "name": "python",
   "nbconvert_exporter": "python",
   "pygments_lexer": "ipython3",
   "version": "3.7.6"
  }
 },
 "nbformat": 4,
 "nbformat_minor": 4
}
