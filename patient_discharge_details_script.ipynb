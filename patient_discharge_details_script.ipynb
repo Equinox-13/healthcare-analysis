{
 "cells": [
  {
   "cell_type": "code",
   "execution_count": 3,
   "metadata": {},
   "outputs": [
    {
     "name": "stdout",
     "output_type": "stream",
     "text": [
      "   REGISTRATIONNO PATIENTNAME  CITYNAME DISTRICTNAME       STATENAME  \\\n",
      "0               1     Osbourn  JAMNAGAR     JAMNAGAR         GUJARAT   \n",
      "1               2     Malvina    AMRELI       AMRELI         GUJARAT   \n",
      "2               3      Maible     MAVDI        Alwar       Rajasthan   \n",
      "3               4        Jada    Bhopal       Bhopal  Madhya Pradesh   \n",
      "4               5      Farrel   VERAVAL     JUNAGADH         GUJARAT   \n",
      "\n",
      "                           PHONE     ADMITDATETIME DISCHARGEDATETIME  \\\n",
      "0                     9662455135  30-03-2014 12:23    1/4/2014 13:32   \n",
      "1  9,57,49,96,26,49,72,57,00,000    1/4/2014 11:25    1/4/2014 14:34   \n",
      "2                     9879858082     1/4/2014 7:15     2/4/2014 7:15   \n",
      "3                     8758505694  31-03-2014 14:13    2/4/2014 10:50   \n",
      "4                     9925512494  28-03-2014 20:18    2/4/2014 12:55   \n",
      "\n",
      "   COMPANY NAME     DEPARTMENT  DISCOUNTAMOUNT  BILLAMOUNT  ROOM TARIFF  \\\n",
      "0  MENDATA CASH     CARDIOLOGY               0        6459         2200   \n",
      "1  MENDATA CASH       ONCOLOGY               0        9994         1100   \n",
      "2  MENDATA CASH  CRITICAL CARE               0       43717         4500   \n",
      "3  MENDATA CASH    PEDIATIRICS               0        5594         2200   \n",
      "4         GUVNL       ONCOLOGY            5354       40769         3000   \n",
      "\n",
      "   PHARMACY  Investigations  Bedside Procedures  Physiotherapy  Surgeries  \\\n",
      "0   2481.09             620               460.0            NaN        NaN   \n",
      "1   4937.50               0              2810.0            NaN        NaN   \n",
      "2  10372.67            5300              9090.0            NaN        NaN   \n",
      "3    352.22             630               460.0            NaN        NaN   \n",
      "4   1714.23            8140              9880.0            NaN        NaN   \n",
      "\n",
      "   CONSUMABLES  Doctor Consultations  \n",
      "0      1132.70                   NaN  \n",
      "1       546.50                 450.0  \n",
      "2     14520.43                2200.0  \n",
      "3      1472.30                1200.0  \n",
      "4      4204.70                3150.0  \n"
     ]
    }
   ],
   "source": [
    "import pandas as pd\n",
    "\n",
    "class PatientDischargeCleaning:\n",
    "    \n",
    "    def read_csv(self):\n",
    "        \"\"\"\n",
    "        this method  will read patient_discharge_details_dump.csv file\n",
    "        return: patient_discharge_df\n",
    "        \"\"\"\n",
    "        patient_discharge_df = pd.read_csv('data_files/patient_discharge_details_dump.csv', header=0, delimiter=',')\n",
    "        return patient_discharge_df\n",
    "    \n",
    "if __name__ == '__main__':\n",
    "    pdclean = PatientDischargeCleaning()\n",
    "    patient_discharge_df = pdclean.read_csv()\n",
    "    print(patient_discharge_df.head())"
   ]
  },
  {
   "cell_type": "code",
   "execution_count": null,
   "metadata": {},
   "outputs": [],
   "source": []
  }
 ],
 "metadata": {
  "kernelspec": {
   "display_name": "Python 3",
   "language": "python",
   "name": "python3"
  },
  "language_info": {
   "codemirror_mode": {
    "name": "ipython",
    "version": 3
   },
   "file_extension": ".py",
   "mimetype": "text/x-python",
   "name": "python",
   "nbconvert_exporter": "python",
   "pygments_lexer": "ipython3",
   "version": "3.7.6"
  }
 },
 "nbformat": 4,
 "nbformat_minor": 4
}
